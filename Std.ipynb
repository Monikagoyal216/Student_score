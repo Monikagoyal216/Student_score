{
 "cells": [
  {
   "cell_type": "code",
   "execution_count": 1,
   "id": "af74e036",
   "metadata": {},
   "outputs": [],
   "source": [
    "import pandas as pd\n",
    "from sklearn.linear_model import LinearRegression\n",
    "\n",
    "data = pd.read_csv('student_scores - student_scores.csv')\n"
   ]
  },
  {
   "cell_type": "code",
   "execution_count": 5,
   "id": "721502d2",
   "metadata": {},
   "outputs": [
    {
     "data": {
      "text/plain": [
       "LinearRegression()"
      ]
     },
     "execution_count": 5,
     "metadata": {},
     "output_type": "execute_result"
    }
   ],
   "source": [
    "# Separate the features (study hours) and target variable (score)\n",
    "X = data['Hours'].values.reshape(-1, 1)\n",
    "y = data['Scores'].values\n",
    "\n",
    "# Create and train a linear regression model\n",
    "model = LinearRegression()\n",
    "model.fit(X, y)"
   ]
  },
  {
   "cell_type": "code",
   "execution_count": 6,
   "id": "c6c9e71c",
   "metadata": {},
   "outputs": [
    {
     "name": "stdout",
     "output_type": "stream",
     "text": [
      "Predicted score for studying 9.5 hours: 95.35380561785418\n"
     ]
    }
   ],
   "source": [
    "# Predict the score for 9.5 hours of study\n",
    "hours = 9.5\n",
    "predicted_score = model.predict([[hours]])\n",
    "\n",
    "print(\"Predicted score for studying 9.5 hours:\", predicted_score[0])"
   ]
  },
  {
   "cell_type": "code",
   "execution_count": null,
   "id": "0fda7cd7",
   "metadata": {},
   "outputs": [],
   "source": []
  }
 ],
 "metadata": {
  "kernelspec": {
   "display_name": "Python 3 (ipykernel)",
   "language": "python",
   "name": "python3"
  },
  "language_info": {
   "codemirror_mode": {
    "name": "ipython",
    "version": 3
   },
   "file_extension": ".py",
   "mimetype": "text/x-python",
   "name": "python",
   "nbconvert_exporter": "python",
   "pygments_lexer": "ipython3",
   "version": "3.9.13"
  }
 },
 "nbformat": 4,
 "nbformat_minor": 5
}
